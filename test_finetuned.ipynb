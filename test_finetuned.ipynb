{
 "cells": [
  {
   "cell_type": "code",
   "execution_count": 1,
   "metadata": {},
   "outputs": [],
   "source": [
    "from transformers import AutoTokenizer, AutoModelForCausalLM, BitsAndBytesConfig\n",
    "import torch\n",
    "from peft import PeftModel, PeftConfig\n",
    "from util import task_to_prompt"
   ]
  },
  {
   "cell_type": "code",
   "execution_count": 2,
   "metadata": {},
   "outputs": [],
   "source": [
    "with open(\"prompt-template.txt\") as f:\n",
    "    template = f.read()"
   ]
  },
  {
   "cell_type": "code",
   "execution_count": 3,
   "metadata": {},
   "outputs": [],
   "source": [
    "bnb_config = BitsAndBytesConfig(\n",
    "    load_in_4bit=True,\n",
    "    bnb_4bit_quant_type=\"nf4\",\n",
    "    bnb_4bit_compute_dtype=torch.bfloat16,\n",
    "    bnb_4bit_use_double_quant=False,\n",
    ")"
   ]
  },
  {
   "cell_type": "code",
   "execution_count": 4,
   "metadata": {},
   "outputs": [
    {
     "data": {
      "application/vnd.jupyter.widget-view+json": {
       "model_id": "2f6c0a896fda450c97ba87b32a63d39d",
       "version_major": 2,
       "version_minor": 0
      },
      "text/plain": [
       "Loading checkpoint shards:   0%|          | 0/3 [00:00<?, ?it/s]"
      ]
     },
     "metadata": {},
     "output_type": "display_data"
    },
    {
     "name": "stderr",
     "output_type": "stream",
     "text": [
      "Special tokens have been added in the vocabulary, make sure the associated word embeddings are fine-tuned or trained.\n"
     ]
    }
   ],
   "source": [
    "peft_model_id = \"finetuned-models/Starling-LM-7B-alpha-finetuned\"\n",
    "\n",
    "config = PeftConfig.from_pretrained(peft_model_id)\n",
    "model = AutoModelForCausalLM.from_pretrained(config.base_model_name_or_path, \n",
    "                                                    quantization_config=bnb_config, \n",
    "                                                    return_dict=True, \n",
    "                                                    load_in_4bit=True, \n",
    "                                                    device_map=\"auto\")\n",
    "\n",
    "tokenizer = AutoTokenizer.from_pretrained(config.base_model_name_or_path)\n",
    "\n",
    "# Load the Lora model\n",
    "model = PeftModel.from_pretrained(model, peft_model_id)"
   ]
  },
  {
   "cell_type": "code",
   "execution_count": 5,
   "metadata": {},
   "outputs": [],
   "source": [
    "def generate_response(prompt, max_new_tokens=512, temperature=0.5):\n",
    "    input_ids = tokenizer(prompt, return_tensors=\"pt\").to(model.device)\n",
    "    token_length = len(input_ids[\"input_ids\"][0])\n",
    "    if token_length > 8192:\n",
    "        print(\"Input too long: \", token_length)\n",
    "        return prompt + \"\\n\\nInput too long. Please try again.\"\n",
    "    print(\"token length:\", token_length)\n",
    "    outputs = model.generate(**input_ids, do_sample=True, temperature=temperature, pad_token_id=tokenizer.eos_token_id, max_new_tokens=max_new_tokens)\n",
    "    return tokenizer.decode(outputs[0], skip_special_tokens=True)"
   ]
  },
  {
   "cell_type": "code",
   "execution_count": 6,
   "metadata": {},
   "outputs": [
    {
     "data": {
      "application/vnd.jupyter.widget-view+json": {
       "model_id": "68d21716826c4ceca32c34b346a8566a",
       "version_major": 2,
       "version_minor": 0
      },
      "text/plain": [
       "  0%|          | 0/400 [00:00<?, ?it/s]"
      ]
     },
     "metadata": {},
     "output_type": "display_data"
    },
    {
     "name": "stdout",
     "output_type": "stream",
     "text": [
      "c97c0139.json token length: 5775\n",
      "ea9794b1.json token length: 2667\n",
      "5d2a5c43.json token length: 1434\n",
      "fea12743.json token length: 3768\n",
      "ae58858e.json token length: 2187\n",
      "0f63c0b9.json token length: 6162\n"
     ]
    },
    {
     "name": "stderr",
     "output_type": "stream",
     "text": [
      "This is a friendly reminder - the current text generation call will exceed the model's predefined maximum length (8192). Depending on the model, you may observe exceptions, performance degradation, or nothing at all.\n"
     ]
    },
    {
     "name": "stdout",
     "output_type": "stream",
     "text": [
      "e99362f0.json token length: 2556\n",
      "195ba7dc.json token length: 1422\n",
      "f3cdc58f.json token length: 2172\n",
      "a8610ef7.json token length: 1059\n",
      "84db8fc4.json token length: 2787\n",
      "4b6b68e5.json token length: 7986\n",
      "ff72ca3e.json token length: 4173\n",
      "8ee62060.json token length: 2988\n",
      "0b17323b.json token length: 3432\n",
      "c074846d.json token length: 1449\n",
      "e345f17b.json token length: 759\n",
      "50aad11f.json token length: 2586\n",
      "e4075551.json token length: 4662\n",
      "66e6c45b.json token length: 297\n",
      "358ba94e.json token length: 4791\n",
      "d017b73f.json token length: 852\n",
      "4c177718.json token length: 5082\n",
      "b7999b51.json token length: 2769\n",
      "3979b1a8.json token length: 882\n",
      "bf32578f.json token length: 1296\n",
      "d19f7514.json token length: 1095\n",
      "b0722778.json token length: 900\n",
      "136b0064.json token length: 3105\n",
      "5b526a93.json token length: 5997\n",
      "ef26cbf6.json token length: 1212\n",
      "e633a9e5.json token length: 405\n",
      "62ab2642.json token length: 1962\n",
      "73c3b0d8.json token length: 1629\n"
     ]
    }
   ],
   "source": [
    "from tqdm.notebook import tqdm\n",
    "import os\n",
    "\n",
    "for task in tqdm(os.listdir(\"data/evaluation\")):\n",
    "    if os.path.exists(f\"fine_tuned_results/evaluation/{task.replace('.json', '.txt')}\"):\n",
    "        continue\n",
    "    prompt, output = task_to_prompt(\"data/evaluation/\" + task)\n",
    "    print(f\"{task}\", end=\" \")\n",
    "    full_prompt = f\"GPT4 Correct User: {prompt}<|end_of_turn|>GPT4 Correct Assistant:\"\n",
    "    output = generate_response(full_prompt, max_new_tokens=2048, temperature=0.5)\n",
    "    with open(f\"fine_tuned_results/evaluation/{task.replace('.json', '.txt')}\", \"w\") as f:\n",
    "        f.write(output)"
   ]
  }
 ],
 "metadata": {
  "kernelspec": {
   "display_name": ".venv",
   "language": "python",
   "name": "python3"
  },
  "language_info": {
   "codemirror_mode": {
    "name": "ipython",
    "version": 3
   },
   "file_extension": ".py",
   "mimetype": "text/x-python",
   "name": "python",
   "nbconvert_exporter": "python",
   "pygments_lexer": "ipython3",
   "version": "3.10.9"
  }
 },
 "nbformat": 4,
 "nbformat_minor": 2
}
